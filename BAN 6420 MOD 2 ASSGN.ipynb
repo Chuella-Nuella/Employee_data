{
 "cells": [
  {
   "cell_type": "code",
   "execution_count": 1,
   "id": "465b09d0-b2a1-464b-8310-bd228fb26dcf",
   "metadata": {},
   "outputs": [],
   "source": [
    "#import pandas as pd"
   ]
  },
  {
   "cell_type": "code",
   "execution_count": 3,
   "id": "75c043bc-229a-4f56-9f22-4da32bf11281",
   "metadata": {},
   "outputs": [],
   "source": [
    "def total (salary_data):\n",
    "# Load total.csv.zip data into a Pandas DataFrame\n",
    "    total.csv.zip_data = pd.read_csv('total.csv.zip')"
   ]
  },
  {
   "cell_type": "code",
   "execution_count": 5,
   "id": "7d15e203-9625-47d7-b91a-5b0fdf1e85c5",
   "metadata": {},
   "outputs": [],
   "source": [
    "#Create Employee Function\n",
    "def get_employee_details(name):\n",
    "    employee_data = salary_data[salary_data['Name'] == name]\n",
    "    if employee_data.empty:\n",
    "        return \"Employee not found\"\n",
    "    else:\n",
    "        return employee_data.to_dict(orient='records')[0]"
   ]
  },
  {
   "cell_type": "code",
   "execution_count": 7,
   "id": "bca236b5-15f9-45a9-9541-ede110de0234",
   "metadata": {},
   "outputs": [],
   "source": [
    " #Data Processing with Dictionary\n",
    "def salary_data (total):\n",
    " # Create a dictionary to store employee data\n",
    "    employee_dict = salary_data.set_index('Name').T.to_dict()"
   ]
  },
  {
   "cell_type": "code",
   "execution_count": 9,
   "id": "4d5244c4-46b0-48a7-b63d-6b591f087841",
   "metadata": {},
   "outputs": [],
   "source": [
    "# Process data using dictionary\n",
    "def employee_dict(name):\n",
    "    for employee, details in employee_dict.items():\n",
    "        print(f\"Employee: {employee}\")\n",
    "    print(f\"Salary: {details['Salary']}\")\n",
    "    print(f\"Department: {details['Department']}\")\n",
    "    print(\"------------------------\")"
   ]
  },
  {
   "cell_type": "code",
   "execution_count": 11,
   "id": "9096fd84-1b50-4960-a65b-48a6a62b3009",
   "metadata": {},
   "outputs": [
    {
     "name": "stdin",
     "output_type": "stream",
     "text": [
      "Enter employee name:  ALBERT PARDINI\n"
     ]
    },
    {
     "name": "stdout",
     "output_type": "stream",
     "text": [
      "An error occurred: 'function' object is not subscriptable\n"
     ]
    }
   ],
   "source": [
    "#Error Handling\n",
    "try:\n",
    "    employee_name = input(\"Enter employee name: \")\n",
    "    employee_details = get_employee_details(employee_name)\n",
    "    if isinstance(employee_details, str):\n",
    "        print(employee_details)\n",
    "    else:\n",
    "        print(\"Employee Details:\")\n",
    "        print(employee_details)\n",
    "except Exception as e:\n",
    "    print(f\"An error occurred: {str(e)}\")\n"
   ]
  },
  {
   "cell_type": "code",
   "execution_count": 25,
   "id": "1f2b8507-30f8-4a62-9e58-32f3effd80fb",
   "metadata": {},
   "outputs": [],
   "source": [
    "import csv\n",
    "import zipfile\n",
    "\n",
    "def export_employee_details(name):\n",
    "    employee_details = get_employee_details(name)\n",
    "    if isinstance(employee_details, str):\n",
    "        print(employee_details)\n",
    "    else:\n",
    "        with open('employee_details.csv', 'w', newline='') as csvfile:\n",
    "            fieldnames = ['Name', 'Salary', 'Department']\n",
    "            writer = csv.DictWriter(csvfile, fieldnames=fieldnames)\n",
    "            writer.writeheader()\n",
    "            writer.writerow(employee_details)\n",
    "        \n",
    "        with zipfile.ZipFile('Employee Profile.zip', 'w') as zip_file:\n",
    "            zip_file.write('employee_details.csv')\n",
    "\n"
   ]
  },
  {
   "cell_type": "code",
   "execution_count": null,
   "id": "b8f1a81c-f8a0-4e33-a6ec-dc72a074752f",
   "metadata": {},
   "outputs": [],
   "source": []
  }
 ],
 "metadata": {
  "kernelspec": {
   "display_name": "Python 3 (ipykernel)",
   "language": "python",
   "name": "python3"
  },
  "language_info": {
   "codemirror_mode": {
    "name": "ipython",
    "version": 3
   },
   "file_extension": ".py",
   "mimetype": "text/x-python",
   "name": "python",
   "nbconvert_exporter": "python",
   "pygments_lexer": "ipython3",
   "version": "3.12.7"
  }
 },
 "nbformat": 4,
 "nbformat_minor": 5
}
